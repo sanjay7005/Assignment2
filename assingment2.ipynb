{
  "nbformat": 4,
  "nbformat_minor": 0,
  "metadata": {
    "colab": {
      "provenance": []
    },
    "kernelspec": {
      "name": "python3",
      "display_name": "Python 3"
    },
    "language_info": {
      "name": "python"
    }
  },
  "cells": [
    {
      "cell_type": "code",
      "execution_count": null,
      "metadata": {
        "id": "K_6G_psJdPrG"
      },
      "outputs": [],
      "source": [
        "body"
      ]
    },
    {
      "cell_type": "markdown",
      "source": [
        "1. Write a simple program in HTML  that displays the heading \"HTML defines the content and structure of\n",
        "your website” on the web browser"
      ],
      "metadata": {
        "id": "Jllh2Bhgd2Jv"
      }
    },
    {
      "cell_type": "code",
      "source": [
        "<!DOCTYPE html>\n",
        "<html lang=\"en\">\n",
        "<head>\n",
        "    <meta charset=\"UTF-8\">\n",
        "    <meta name=\"viewport\" content=\"width=device-width, initial-scale=1.0\">\n",
        "    <title>Document</title>\n",
        "</head>\n",
        "<body>\n",
        "    <h1>HTML define the content and structure of you website</h1>\n",
        "\n",
        "</body>\n",
        "</html>"
      ],
      "metadata": {
        "id": "ZlrSr-SRfiNB"
      },
      "execution_count": null,
      "outputs": []
    },
    {
      "cell_type": "markdown",
      "source": [
        "2.Explain the purpose of comments in HTML and provide an example of how to use comments in an HTML\n",
        "document?\n",
        "- Comments in HTML are used to add notes, explanations, or reminders within the code that are not visible on the web page. They help improve code readability, make maintenance easier, and provide documentation for other developers."
      ],
      "metadata": {
        "id": "iPGdHU9mflCN"
      }
    },
    {
      "cell_type": "code",
      "source": [
        "<!DOCTYPE html>\n",
        "<html lang=\"en\">\n",
        "<head>\n",
        "    <meta charset=\"UTF-8\">\n",
        "    <meta name=\"viewport\" content=\"width=device-width, initial-scale=1.0\">\n",
        "    <title>Document</title>\n",
        "</head>\n",
        "<body>\n",
        "    <!-- this commment not show on the website -->\n",
        "    <h1>HTML define the content and structure of you website</h1>\n",
        "\n",
        "</body>\n",
        "</html>"
      ],
      "metadata": {
        "id": "po_bErsWh_iQ"
      },
      "execution_count": null,
      "outputs": []
    },
    {
      "cell_type": "markdown",
      "source": [
        "3. Write an HTML program that includes a heading, a paragraph of text, a horizontal line, and a line break.\n",
        "Arrange these elements to create a simple web page layout?\n"
      ],
      "metadata": {
        "id": "FRs2UlJ9iEG_"
      }
    },
    {
      "cell_type": "code",
      "source": [
        "<!DOCTYPE html>\n",
        "<html lang=\"en\">\n",
        "<head>\n",
        "    <meta charset=\"UTF-8\">\n",
        "    <meta name=\"viewport\" content=\"width=device-width, initial-scale=1.0\">\n",
        "    <title>Document</title>\n",
        "</head>\n",
        "<body>\n",
        "    <!--heading tag-->\n",
        "    <h1> their 6 heading tag are present in html</h1>\n",
        "    <!--horizotal tag-->\n",
        "    <hr>\n",
        "    <!-- pargraph-->\n",
        "    <p>HTML stand for hyper taxt makrkup language<br> and it is structure of webpage</p>\n",
        "\n",
        "</body>\n",
        "</html>\n"
      ],
      "metadata": {
        "id": "_dzYJHculwCj"
      },
      "execution_count": null,
      "outputs": []
    },
    {
      "cell_type": "markdown",
      "source": [
        "4. Write a short note on Tag and element with an example.\n",
        "- Tag and Element in HTML\n",
        "i. Tag:\n",
        "A tag is a part of an HTML document that defines how content should be structured and displayed. It is enclosed within angle brackets (<>). Tags usually come in pairs: an opening tag and a closing tag.\n",
        "example-\n"
      ],
      "metadata": {
        "id": "xL_YJ6eHmFIx"
      }
    },
    {
      "cell_type": "markdown",
      "source": [],
      "metadata": {
        "id": "7Bqo63BWmr_q"
      }
    },
    {
      "cell_type": "markdown",
      "source": [],
      "metadata": {
        "id": "w0-G5tE2nEAy"
      }
    },
    {
      "cell_type": "code",
      "source": [
        "<p>This is a paragraph.</p>"
      ],
      "metadata": {
        "id": "5yZX9rb7nHyh"
      },
      "execution_count": null,
      "outputs": []
    },
    {
      "cell_type": "code",
      "source": [],
      "metadata": {
        "id": "qLV9pMunnJcC"
      },
      "execution_count": null,
      "outputs": []
    },
    {
      "cell_type": "markdown",
      "source": [
        "<p> is the opening tag.\n",
        "</p> is the closing tag.\n",
        "\n",
        "Some tags, like <br> (line break) and <hr> (horizontal rule), are self-closing and do not require a closing tag.\n",
        "\n",
        "2. Element:\n",
        "An element consists of the opening tag, the content inside, and the closing tag (if applicable). It represents a complete part of the webpage.\n",
        "\n",
        "5. What is the DOCTYPE Declaration in HTML?\n",
        "\n",
        "- **DOCTYPE Declaration in HTML**\n",
        "\n",
        "The DOCTYPE declaration in HTML is used to specify the HTML version being used in a document. It tells the web browser how to interpret the HTML code.\n",
        "\n"
      ],
      "metadata": {
        "id": "emNcT9vGnQp5"
      }
    },
    {
      "cell_type": "code",
      "source": [
        "<!DOCTYPE html>\n",
        "<html lang=\"en\">\n",
        "<head>\n",
        "    <meta charset=\"UTF-8\">\n",
        "    <meta name=\"viewport\" content=\"width=device-width, initial-scale=1.0\">\n",
        "    <title>DOCTYPE Example</title>\n",
        "</head>\n",
        "<body>\n",
        "    <h1>Hello, World!</h1>\n",
        "    <p>This is a webpage with a proper DOCTYPE declaration.</p>\n",
        "</body>\n",
        "</html>"
      ],
      "metadata": {
        "id": "L_siD5Ewodr3"
      },
      "execution_count": null,
      "outputs": []
    },
    {
      "cell_type": "markdown",
      "source": [],
      "metadata": {
        "id": "OGvQ2XG7nJu4"
      }
    },
    {
      "cell_type": "markdown",
      "source": [],
      "metadata": {
        "id": "Vdtd47KVm9ky"
      }
    },
    {
      "cell_type": "markdown",
      "source": [],
      "metadata": {
        "id": "pXHHgTPqm0Hq"
      }
    }
  ]
}